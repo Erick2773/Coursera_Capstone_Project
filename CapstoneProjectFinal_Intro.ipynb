{
    "nbformat_minor": 1, 
    "cells": [
        {
            "source": "# Introduction and Business Problem\n\n## Introduction\n\n    The town of Morristown is located in Morris county New Jersey.  Eventhough, it is not considered a city like Hoboken, Jersey city or Newark.  I guess one can considered it a town with a city feel with the number of many diverse venues.  There are also a couple of universities nearby like FDU and Drew University.  A couple of Forbes 500 companies have establish offices around the area.  ", 
            "cell_type": "markdown", 
            "metadata": {
                "collapsed": true
            }
        }, 
        {
            "source": "## Business Problem\n    For this project,  I want provide an overview of Morristowns venues like resturants and rank them accordingly.  I will accomplish this by retieving the data using Foursquare API. I will be able to retrieve the Venue's Name, ID, Location, Category, count of likes and so on.  I will take this data to seperate the venues into seperate clusters to rank the venues.  I will also the geolocator to aquire the coordinates of Morristown to make the task easier.\n", 
            "cell_type": "markdown", 
            "metadata": {}
        }, 
        {
            "source": "", 
            "cell_type": "code", 
            "execution_count": null, 
            "outputs": [], 
            "metadata": {}
        }, 
        {
            "source": "", 
            "cell_type": "code", 
            "execution_count": null, 
            "outputs": [], 
            "metadata": {}
        }
    ], 
    "nbformat": 4, 
    "metadata": {
        "kernelspec": {
            "display_name": "Python 3.6", 
            "name": "python3", 
            "language": "python"
        }, 
        "language_info": {
            "mimetype": "text/x-python", 
            "nbconvert_exporter": "python", 
            "version": "3.6.8", 
            "name": "python", 
            "pygments_lexer": "ipython3", 
            "file_extension": ".py", 
            "codemirror_mode": {
                "version": 3, 
                "name": "ipython"
            }
        }
    }
}